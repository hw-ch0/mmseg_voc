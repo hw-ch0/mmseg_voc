{
 "cells": [
  {
   "cell_type": "code",
   "execution_count": 2,
   "metadata": {},
   "outputs": [],
   "source": [
    "import torch"
   ]
  },
  {
   "cell_type": "code",
   "execution_count": 3,
   "metadata": {},
   "outputs": [],
   "source": [
    "pretrained_dlv3 = torch.load('checkpoint/deeplabv3_r50-d8_512x512_4x4_320k_coco-stuff164k_20210709_155403-51b21115.pth')\n",
    "pretrained_maskformer = torch.load('checkpoint/iter_160000.pth')"
   ]
  },
  {
   "cell_type": "code",
   "execution_count": 4,
   "metadata": {},
   "outputs": [],
   "source": [
    "# matching\n",
    "# pretrained_coco['state_dict'] ->  pretrained_maskformer['state_dict']\n",
    "#                       18~329  ->  6~317\n",
    "#                       backbone.layer"
   ]
  },
  {
   "cell_type": "code",
   "execution_count": 5,
   "metadata": {},
   "outputs": [],
   "source": [
    "sd_dlv3 = pretrained_dlv3['state_dict']\n",
    "sd_mf = pretrained_maskformer['state_dict']"
   ]
  },
  {
   "cell_type": "code",
   "execution_count": 9,
   "metadata": {},
   "outputs": [
    {
     "data": {
      "text/plain": [
       "312"
      ]
     },
     "execution_count": 9,
     "metadata": {},
     "output_type": "execute_result"
    }
   ],
   "source": [
    "common_sd = set(sd_dlv3.keys()).intersection( set(sd_mf.keys()) )\n",
    "len(common_sd)"
   ]
  },
  {
   "cell_type": "code",
   "execution_count": null,
   "metadata": {},
   "outputs": [],
   "source": [
    "freeze_indices = []\n",
    "freeze_keys = []\n",
    "\n",
    "parameters = []\n",
    "for i, key in enumerate(pretrained_maskformer['state_dict'].keys()):\n",
    "    if key in pretrained_dlv3['state_dict'].keys():\n",
    "        pretrained_maskformer['state_dict'][key] = pretrained_dlv3['state_dict'][key]\n",
    "    \n",
    "        freeze_indices.append(i)\n",
    "        freeze_keys(key)"
   ]
  },
  {
   "cell_type": "code",
   "execution_count": null,
   "metadata": {},
   "outputs": [],
   "source": []
  },
  {
   "cell_type": "code",
   "execution_count": null,
   "metadata": {},
   "outputs": [],
   "source": [
    "# 예시\n",
    "layer_names = []\n",
    "for idx, (name, param) in enumerate(finetune_net.named_parameters()):\n",
    "    layer_names.append(name)\n",
    "    # print(f'{idx}: {name}')\n",
    "\n",
    "retrain_lr = 0.01\n",
    "finetune_lr = 0.001\n",
    "\n",
    "parameters = []\n",
    "for idx, name in enumerate(layer_names):\n",
    "    \"\"\"\n",
    "    60: fc.weight\n",
    "    61: fc.bias\n",
    "    \"\"\"\n",
    "    if idx>=0 and idx<=59: # conv layers\n",
    "        lr = finetune_lr\n",
    "    elif idx>=60: # fc layer\n",
    "        lr = retrain_lr\n",
    "\n",
    "    parameters += [{'params': [p for n, p in finetune_net.named_parameters() if n == name and p.requires_grad],\n",
    "                    'lr':     lr}]\n",
    "    \n",
    "optimizer = optim.SGD(parameters, momentum=0.9)"
   ]
  },
  {
   "cell_type": "code",
   "execution_count": null,
   "metadata": {},
   "outputs": [],
   "source": []
  },
  {
   "cell_type": "code",
   "execution_count": null,
   "metadata": {},
   "outputs": [],
   "source": []
  }
 ],
 "metadata": {
  "kernelspec": {
   "display_name": "base",
   "language": "python",
   "name": "python3"
  },
  "language_info": {
   "codemirror_mode": {
    "name": "ipython",
    "version": 3
   },
   "file_extension": ".py",
   "mimetype": "text/x-python",
   "name": "python",
   "nbconvert_exporter": "python",
   "pygments_lexer": "ipython3",
   "version": "3.8.12"
  }
 },
 "nbformat": 4,
 "nbformat_minor": 2
}
